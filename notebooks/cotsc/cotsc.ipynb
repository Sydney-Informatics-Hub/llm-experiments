{
 "cells": [
  {
   "cell_type": "code",
   "execution_count": null,
   "metadata": {
    "tags": []
   },
   "outputs": [],
   "source": [
    "# dev - pathing\n",
    "import os\n",
    "from pathlib import Path\n",
    "while 'llm-experiments' not in Path(os.getcwd()).name:\n",
    "    os.chdir('../')\n",
    "os.getcwd()"
   ]
  },
  {
   "cell_type": "markdown",
   "metadata": {},
   "source": [
    "# Chain of Thoughts - Self Consistency"
   ]
  },
  {
   "cell_type": "code",
   "execution_count": null,
   "metadata": {
    "tags": []
   },
   "outputs": [],
   "source": [
    "assert os.environ['OPENAI_API_KEY'], \"API Key to OPENAI is missing. Please put Key in your environment before launching jupyter.\""
   ]
  },
  {
   "cell_type": "code",
   "execution_count": null,
   "metadata": {
    "is_executing": true,
    "tags": []
   },
   "outputs": [],
   "source": [
    "from llm_experiments import CoTSC, SamplingScheme\n",
    "\n",
    "cotsc = CoTSC.from_toml(\n",
    "    model='text-ada-001',\n",
    "    prompt_toml='./notebooks/cotsc/classification.toml',\n",
    "    sampling_scheme=SamplingScheme(top_p=1.0, temperature=1.5, top_k=None),\n",
    "    n_completions=5,\n",
    ")"
   ]
  },
  {
   "cell_type": "code",
   "execution_count": null,
   "metadata": {
    "collapsed": false,
    "jupyter": {
     "outputs_hidden": false
    },
    "tags": []
   },
   "outputs": [],
   "source": [
    "query = \"some query\"\n",
    "cotsc.run(query=query)"
   ]
  }
 ],
 "metadata": {
  "kernelspec": {
   "display_name": "Python 3 (ipykernel)",
   "language": "python",
   "name": "python3"
  },
  "language_info": {
   "codemirror_mode": {
    "name": "ipython",
    "version": 3
   },
   "file_extension": ".py",
   "mimetype": "text/x-python",
   "name": "python",
   "nbconvert_exporter": "python",
   "pygments_lexer": "ipython3",
   "version": "3.10.11"
  }
 },
 "nbformat": 4,
 "nbformat_minor": 4
}
