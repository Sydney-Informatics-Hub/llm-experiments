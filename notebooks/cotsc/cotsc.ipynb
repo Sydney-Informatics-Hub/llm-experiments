{
 "cells": [
  {
   "cell_type": "code",
   "execution_count": 1,
   "metadata": {
    "tags": []
   },
   "outputs": [
    {
     "data": {
      "text/plain": [
       "'/Users/hcha9747/workspace/llm-experiments'"
      ]
     },
     "execution_count": 1,
     "metadata": {},
     "output_type": "execute_result"
    }
   ],
   "source": [
    "# dev - pathing\n",
    "import os\n",
    "from pathlib import Path\n",
    "while 'llm-experiments' not in Path(os.getcwd()).name:\n",
    "    os.chdir('../')\n",
    "os.getcwd()"
   ]
  },
  {
   "cell_type": "markdown",
   "metadata": {},
   "source": [
    "# Chain of Thoughts - Self Consistency"
   ]
  },
  {
   "cell_type": "code",
   "execution_count": 2,
   "metadata": {
    "tags": []
   },
   "outputs": [],
   "source": [
    "os.environ['OPENAI_API_KEY'] = \"<your openai api key>\"\n",
    "assert os.environ['OPENAI_API_KEY'], \"API Key to OPENAI is missing.\""
   ]
  },
  {
   "cell_type": "code",
   "execution_count": 3,
   "metadata": {
    "is_executing": true,
    "tags": []
   },
   "outputs": [],
   "source": [
    "from llm_experiments import CoTSC, SamplingScheme\n",
    "\n",
    "cotsc = CoTSC.from_toml(\n",
    "    model='text-davinci-003',\n",
    "    prompt_toml='./notebooks/cotsc/classification.toml',\n",
    "    sampling_scheme=SamplingScheme(top_p=1.0, temperature=1.5, top_k=None),\n",
    "    n_completions=5,\n",
    ")"
   ]
  },
  {
   "cell_type": "code",
   "execution_count": 4,
   "metadata": {
    "collapsed": false,
    "jupyter": {
     "outputs_hidden": false
    },
    "tags": []
   },
   "outputs": [
    {
     "data": {
      "text/plain": [
       "[('class_0',\n",
       "  {'votes': 4,\n",
       "   'steps': {'decomposed steps that led to why query should be class_0',\n",
       "    'decomposed steps that led to why query should be class_0 ',\n",
       "    'decomposed steps that led to why query should be class_0.'}}),\n",
       " ('class_0, class_0',\n",
       "  {'votes': 1,\n",
       "   'steps': {'{ \"\", steps: \"The query is best matched by  according to the description provided for this class.\"}'}})]"
      ]
     },
     "execution_count": 4,
     "metadata": {},
     "output_type": "execute_result"
    }
   ],
   "source": [
    "query = \"some query\"\n",
    "cotsc.run(query=query)"
   ]
  }
 ],
 "metadata": {
  "kernelspec": {
   "display_name": "Python 3 (ipykernel)",
   "language": "python",
   "name": "python3"
  },
  "language_info": {
   "codemirror_mode": {
    "name": "ipython",
    "version": 3
   },
   "file_extension": ".py",
   "mimetype": "text/x-python",
   "name": "python",
   "nbconvert_exporter": "python",
   "pygments_lexer": "ipython3",
   "version": "3.10.11"
  }
 },
 "nbformat": 4,
 "nbformat_minor": 4
}
